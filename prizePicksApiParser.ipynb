{
 "cells": [
  {
   "cell_type": "code",
   "execution_count": 2,
   "id": "ad4ed635",
   "metadata": {},
   "outputs": [],
   "source": [
    "import json\n",
    "import requests\n",
    "import webbrowser\n",
    "from bs4 import BeautifulSoup"
   ]
  },
  {
   "cell_type": "code",
   "execution_count": 15,
   "id": "54a40e6c",
   "metadata": {},
   "outputs": [],
   "source": [
    "data = None\n",
    "\n",
    "with open('data.json') as f:\n",
    "    data = json.load(f)"
   ]
  },
  {
   "cell_type": "code",
   "execution_count": 4,
   "id": "72a85d9f",
   "metadata": {},
   "outputs": [
    {
     "name": "stdout",
     "output_type": "stream",
     "text": [
      "dict_keys(['data', 'included', 'links', 'meta'])\n"
     ]
    }
   ],
   "source": [
    "print(data.keys())"
   ]
  },
  {
   "cell_type": "code",
   "execution_count": 5,
   "id": "ab2dc612",
   "metadata": {},
   "outputs": [
    {
     "name": "stdout",
     "output_type": "stream",
     "text": [
      "{'projection_type', 'duration', 'league', 'new_player', 'stat_type'}\n"
     ]
    }
   ],
   "source": [
    "d = data['included']\n",
    "s = set()\n",
    "for e in d:\n",
    "    s.add(e['type'])\n",
    "    \n",
    "print(s)"
   ]
  },
  {
   "cell_type": "code",
   "execution_count": 6,
   "id": "27a0acc9",
   "metadata": {},
   "outputs": [
    {
     "data": {
      "text/plain": [
       "{'type': 'new_player',\n",
       " 'id': '155367',\n",
       " 'attributes': {'combo': False,\n",
       "  'display_name': 'Amon-Ra St. Brown',\n",
       "  'image_url': 'https://static.prizepicks.com/images/players/nfl/Amon-Ra_St._Brown_26ef0447-29b8-4dd1-9831-dcbf8132bb74.webp',\n",
       "  'league': 'NFL SPRINTS',\n",
       "  'league_id': 263,\n",
       "  'market': None,\n",
       "  'name': 'Amon-Ra St. Brown',\n",
       "  'position': 'WR',\n",
       "  'team': 'DET',\n",
       "  'team_name': None},\n",
       " 'relationships': {'league': {'data': {'type': 'league', 'id': '263'}}}}"
      ]
     },
     "execution_count": 6,
     "metadata": {},
     "output_type": "execute_result"
    }
   ],
   "source": [
    "data['included'][0]"
   ]
  },
  {
   "cell_type": "code",
   "execution_count": 10,
   "id": "acc8de87",
   "metadata": {},
   "outputs": [
    {
     "data": {
      "text/plain": [
       "{'type': 'projection',\n",
       " 'id': '1705909',\n",
       " 'attributes': {'adjusted_odds': None,\n",
       "  'board_time': '2023-11-07T13:00:00-05:00',\n",
       "  'custom_image': None,\n",
       "  'description': 'Weeks 10-13',\n",
       "  'end_time': None,\n",
       "  'flash_sale_line_score': None,\n",
       "  'is_promo': False,\n",
       "  'line_score': 6,\n",
       "  'projection_type': 'Single Stat',\n",
       "  'rank': 0,\n",
       "  'refundable': True,\n",
       "  'start_time': '2023-11-12T13:00:00-05:00',\n",
       "  'stat_type': 'FG Made',\n",
       "  'status': 'pre_game',\n",
       "  'tv_channel': None,\n",
       "  'updated_at': '2023-11-08T12:20:16-05:00'},\n",
       " 'relationships': {'duration': {'data': None},\n",
       "  'league': {'data': {'type': 'league', 'id': '263'}},\n",
       "  'new_player': {'data': {'type': 'new_player', 'id': '155093'}},\n",
       "  'projection_type': {'data': {'type': 'projection_type', 'id': '2'}},\n",
       "  'stat_type': {'data': {'type': 'stat_type', 'id': '117'}}}}"
      ]
     },
     "execution_count": 10,
     "metadata": {},
     "output_type": "execute_result"
    }
   ],
   "source": [
    "data['data'][0]"
   ]
  },
  {
   "cell_type": "code",
   "execution_count": 19,
   "id": "048bbc5c",
   "metadata": {},
   "outputs": [
    {
     "name": "stdout",
     "output_type": "stream",
     "text": [
      "{'type': 'projection', 'id': '1705887', 'attributes': {'adjusted_odds': None, 'board_time': '2023-11-07T17:30:00-05:00', 'custom_image': None, 'description': 'OKL', 'end_time': None, 'flash_sale_line_score': None, 'game_id': 'd77b09e9-ecec-411b-9c40-2d231a299590', 'is_promo': False, 'line_score': 29.5, 'projection_type': 'Single Stat', 'rank': 5030, 'refundable': True, 'start_time': '2023-11-11T19:00:00-05:00', 'stat_type': 'Receiving Yards', 'status': 'pre_game', 'tv_channel': None, 'updated_at': '2023-11-08T11:47:41-05:00'}, 'relationships': {'duration': {'data': None}, 'league': {'data': {'type': 'league', 'id': '15'}}, 'new_player': {'data': {'type': 'new_player', 'id': '176384'}}, 'projection_type': {'data': {'type': 'projection_type', 'id': '2'}}, 'stat_type': {'data': {'type': 'stat_type', 'id': '17'}}}}\n",
      "{'type': 'projection', 'id': '1705887', 'attributes': {'adjusted_odds': None, 'board_time': '2023-11-07T17:30:00-05:00', 'custom_image': None, 'description': 'OKL', 'end_time': None, 'flash_sale_line_score': None, 'game_id': 'd77b09e9-ecec-411b-9c40-2d231a299590', 'is_promo': False, 'line_score': 29.5, 'projection_type': 'Single Stat', 'rank': 5030, 'refundable': True, 'start_time': '2023-11-11T19:00:00-05:00', 'stat_type': 'Receiving Yards', 'status': 'pre_game', 'tv_channel': None, 'updated_at': '2023-11-08T11:47:41-05:00'}, 'relationships': {'duration': {'data': None}, 'league': {'data': {'type': 'league', 'id': '15'}}, 'new_player': {'data': {'type': 'new_player', 'id': '176384'}}, 'projection_type': {'data': {'type': 'projection_type', 'id': '2'}}, 'stat_type': {'data': {'type': 'stat_type', 'id': '17'}}}}\n",
      "{'type': 'projection', 'id': '1705887', 'attributes': {'adjusted_odds': None, 'board_time': '2023-11-07T17:30:00-05:00', 'custom_image': None, 'description': 'OKL', 'end_time': None, 'flash_sale_line_score': None, 'game_id': 'd77b09e9-ecec-411b-9c40-2d231a299590', 'is_promo': False, 'line_score': 29.5, 'projection_type': 'Single Stat', 'rank': 5030, 'refundable': True, 'start_time': '2023-11-11T19:00:00-05:00', 'stat_type': 'Receiving Yards', 'status': 'pre_game', 'tv_channel': None, 'updated_at': '2023-11-08T11:47:41-05:00'}, 'relationships': {'duration': {'data': None}, 'league': {'data': {'type': 'league', 'id': '15'}}, 'new_player': {'data': {'type': 'new_player', 'id': '176384'}}, 'projection_type': {'data': {'type': 'projection_type', 'id': '2'}}, 'stat_type': {'data': {'type': 'stat_type', 'id': '17'}}}}\n"
     ]
    }
   ],
   "source": [
    "for proj in data['data']:\n",
    "    if proj['relationships'].get('new_player') == {'data': {'type': 'new_player', 'id': '155367'}}:\n",
    "        print(proj)"
   ]
  },
  {
   "cell_type": "code",
   "execution_count": 20,
   "id": "ffff6c2b",
   "metadata": {},
   "outputs": [],
   "source": [
    "#nfl league id is 263"
   ]
  },
  {
   "cell_type": "code",
   "execution_count": 2,
   "id": "6f4984e2",
   "metadata": {},
   "outputs": [
    {
     "name": "stdout",
     "output_type": "stream",
     "text": [
      "<Response [403]>\n"
     ]
    }
   ],
   "source": [
    "url = \"https://api.prizepicks.com/projections\"\n",
    "headers = {\n",
    "'User-Agent': 'Mozilla/5.0 (X11; Linux x86_64) AppleWebKit/537.36 (KHTML, like Gecko) Chrome/104.0.5112.79 Safari/537.36'\n",
    "}\n",
    "response = requests.get(url, headers=headers)\n",
    "print(response)"
   ]
  },
  {
   "cell_type": "code",
   "execution_count": 3,
   "id": "39b9a344",
   "metadata": {},
   "outputs": [],
   "source": [
    "response.request.body"
   ]
  },
  {
   "cell_type": "code",
   "execution_count": 4,
   "id": "67b5aeaf",
   "metadata": {},
   "outputs": [],
   "source": [
    "from selenium import webdriver\n",
    "from selenium.webdriver.common.keys import Keys\n",
    "from selenium.webdriver.common.by import By\n",
    "from selenium.webdriver.support.ui import WebDriverWait\n",
    "from selenium.webdriver.support import expected_conditions as EC\n",
    "from bs4 import BeautifulSoup\n",
    "\n",
    "def open_tab_and_scrape(url):\n",
    "    # Set up the Chrome WebDriver\n",
    "    driver = webdriver.Chrome()\n",
    "\n",
    "    try:\n",
    "        # Open a new tab with the provided URL\n",
    "        driver.execute_script(f\"window.open('{url}', '_blank');\")\n",
    "\n",
    "        # Switch to the new tab\n",
    "        driver.switch_to.window(driver.window_handles[-1])\n",
    "\n",
    "        # Wait for some time to allow the page to load (you may need to adjust this)\n",
    "        wait = WebDriverWait(driver, 10)\n",
    "        wait.until(EC.presence_of_element_located((By.TAG_NAME, 'body')))\n",
    "\n",
    "        # Get the HTML content of the page\n",
    "        html_content = driver.page_source\n",
    "\n",
    "        # Use BeautifulSoup to parse the HTML content\n",
    "        soup = BeautifulSoup(html_content, 'html.parser')\n",
    "\n",
    "        # Replace this with the specific HTML elements or tags you want to scrape\n",
    "        # For example, if you want to scrape the text inside all <p> tags, you can use:\n",
    "        body_text = soup.body.get_text()\n",
    "\n",
    "        # Print or process the scraped information\n",
    "        json_body = json.loads(body_text)\n",
    "        return json_body\n",
    "\n",
    "    finally:\n",
    "        # Close the WebDriver\n",
    "        driver.quit()\n"
   ]
  },
  {
   "cell_type": "code",
   "execution_count": 5,
   "id": "e6700eeb",
   "metadata": {},
   "outputs": [],
   "source": [
    "data = open_tab_and_scrape(url)"
   ]
  },
  {
   "cell_type": "code",
   "execution_count": 6,
   "id": "a451bfd2",
   "metadata": {},
   "outputs": [],
   "source": [
    "soccer_players = []\n",
    "\n",
    "for e in data['included']:\n",
    "    if e['attributes'].get('league') == 'SOCCER':\n",
    "        soccer_players.append(e['id'])"
   ]
  },
  {
   "cell_type": "code",
   "execution_count": 7,
   "id": "ff208474",
   "metadata": {},
   "outputs": [
    {
     "name": "stdout",
     "output_type": "stream",
     "text": [
      "['177903', '171225', '177905', '177906', '177907', '177911', '171942', '171221', '177909', '177910', '171220', '171090', '171222']\n"
     ]
    }
   ],
   "source": [
    "print(soccer_players)"
   ]
  },
  {
   "cell_type": "code",
   "execution_count": 8,
   "id": "b24ffb2d",
   "metadata": {},
   "outputs": [
    {
     "name": "stdout",
     "output_type": "stream",
     "text": [
      "177903 Goalie Saves Single Stat 4.5\n",
      "171225 Shots Single Stat 0.5\n",
      "177905 Shots Single Stat 2\n",
      "177906 Shots Single Stat 2\n",
      "177907 Passes Attempted Single Stat 16.5\n",
      "177911 Clearances Single Stat 5.5\n",
      "171942 Shots Single Stat 0.5\n",
      "171221 Shots Single Stat 2\n",
      "177909 Tackles Single Stat 2\n",
      "177910 Interceptions Single Stat 0.5\n",
      "171220 Interceptions Single Stat 1.5\n",
      "171090 Goalie Saves Single Stat 2\n",
      "171222 Passes Attempted Single Stat 110.5\n"
     ]
    }
   ],
   "source": [
    "for player_id in soccer_players:\n",
    "    for proj in data['data']:\n",
    "        if proj['relationships'].get('new_player') == {'data': {'type': 'new_player', 'id': player_id}}:\n",
    "            stat_type = proj['attributes']['stat_type']\n",
    "            line_score = proj['attributes']['line_score']\n",
    "            projection_type = proj['attributes']['projection_type']\n",
    "            print(player_id, stat_type, projection_type, line_score)"
   ]
  },
  {
   "cell_type": "code",
   "execution_count": 20,
   "id": "958c0d92",
   "metadata": {},
   "outputs": [],
   "source": [
    "def get_player(id):\n",
    "    for e in data['included']:\n",
    "        if e['type'] == 'new_player' and e['id'] == str(id):\n",
    "            print(e)"
   ]
  },
  {
   "cell_type": "code",
   "execution_count": 22,
   "id": "3c05164a",
   "metadata": {},
   "outputs": [
    {
     "name": "stdout",
     "output_type": "stream",
     "text": [
      "{'type': 'new_player', 'id': '171222', 'attributes': {'combo': False, 'display_name': 'Marcelo Brozovic', 'image_url': 'https://static.prizepicks.com/images/players/placeholder.png', 'league': 'SOCCER', 'league_id': 82, 'market': 'Croatia', 'name': 'Marcelo Brozovic', 'position': 'Midfielder', 'team': 'Croatia', 'team_name': 'Croatia'}, 'relationships': {'league': {'data': {'type': 'league', 'id': '82'}}}}\n"
     ]
    }
   ],
   "source": [
    "get_player(171222)"
   ]
  },
  {
   "cell_type": "code",
   "execution_count": null,
   "id": "fa073734",
   "metadata": {},
   "outputs": [],
   "source": []
  }
 ],
 "metadata": {
  "kernelspec": {
   "display_name": "Python 3 (ipykernel)",
   "language": "python",
   "name": "python3"
  },
  "language_info": {
   "codemirror_mode": {
    "name": "ipython",
    "version": 3
   },
   "file_extension": ".py",
   "mimetype": "text/x-python",
   "name": "python",
   "nbconvert_exporter": "python",
   "pygments_lexer": "ipython3",
   "version": "3.9.12"
  }
 },
 "nbformat": 4,
 "nbformat_minor": 5
}
