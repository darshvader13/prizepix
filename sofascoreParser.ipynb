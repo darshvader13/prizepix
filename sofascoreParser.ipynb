{
 "cells": [
  {
   "cell_type": "code",
   "execution_count": 1,
   "id": "1ee09ed9",
   "metadata": {},
   "outputs": [],
   "source": [
    "import requests\n",
    "import json\n",
    "import urllib\n",
    "import matplotlib.pyplot as plt\n",
    "from matplotlib.path import Path\n",
    "import matplotlib.patches as patches\n",
    "import re\n",
    "import numpy as np"
   ]
  },
  {
   "cell_type": "code",
   "execution_count": 2,
   "id": "dd923baf",
   "metadata": {},
   "outputs": [],
   "source": [
    "host = \"sofascore.p.rapidapi.com/\"\n",
    "key = \"2272a5bfe7mshc5f760247ed1036p1889ccjsnfbfe7887e2ca\"\n",
    "\n",
    "headers = {\n",
    "    \"X-RapidAPI-Key\": key,\n",
    "    \"X-RapidAPI-Host\": host\n",
    "}\n",
    "\n",
    "sofascore_api = \"https://\" + host\n",
    "name = \"Khvicha Kvaratskhelia\""
   ]
  },
  {
   "cell_type": "code",
   "execution_count": 4,
   "id": "827d2057",
   "metadata": {},
   "outputs": [
    {
     "name": "stdout",
     "output_type": "stream",
     "text": [
      "<Response [429]>\n"
     ]
    },
    {
     "ename": "KeyError",
     "evalue": "'players'",
     "output_type": "error",
     "traceback": [
      "\u001b[1;31m---------------------------------------------------------------------------\u001b[0m",
      "\u001b[1;31mKeyError\u001b[0m                                  Traceback (most recent call last)",
      "Input \u001b[1;32mIn [4]\u001b[0m, in \u001b[0;36m<cell line: 10>\u001b[1;34m()\u001b[0m\n\u001b[0;32m      7\u001b[0m     player_id \u001b[38;5;241m=\u001b[39m search_response_json[\u001b[38;5;124m'\u001b[39m\u001b[38;5;124mplayers\u001b[39m\u001b[38;5;124m'\u001b[39m][\u001b[38;5;241m0\u001b[39m][\u001b[38;5;124m'\u001b[39m\u001b[38;5;124mid\u001b[39m\u001b[38;5;124m'\u001b[39m]\n\u001b[0;32m      8\u001b[0m     \u001b[38;5;28;01mreturn\u001b[39;00m player_id\n\u001b[1;32m---> 10\u001b[0m player_id \u001b[38;5;241m=\u001b[39m \u001b[43mget_player_id\u001b[49m\u001b[43m(\u001b[49m\u001b[43mname\u001b[49m\u001b[43m)\u001b[49m\n\u001b[0;32m     11\u001b[0m player_id\n",
      "Input \u001b[1;32mIn [4]\u001b[0m, in \u001b[0;36mget_player_id\u001b[1;34m(name)\u001b[0m\n\u001b[0;32m      5\u001b[0m \u001b[38;5;28mprint\u001b[39m(search_response)\n\u001b[0;32m      6\u001b[0m search_response_json \u001b[38;5;241m=\u001b[39m search_response\u001b[38;5;241m.\u001b[39mjson()\n\u001b[1;32m----> 7\u001b[0m player_id \u001b[38;5;241m=\u001b[39m \u001b[43msearch_response_json\u001b[49m\u001b[43m[\u001b[49m\u001b[38;5;124;43m'\u001b[39;49m\u001b[38;5;124;43mplayers\u001b[39;49m\u001b[38;5;124;43m'\u001b[39;49m\u001b[43m]\u001b[49m[\u001b[38;5;241m0\u001b[39m][\u001b[38;5;124m'\u001b[39m\u001b[38;5;124mid\u001b[39m\u001b[38;5;124m'\u001b[39m]\n\u001b[0;32m      8\u001b[0m \u001b[38;5;28;01mreturn\u001b[39;00m player_id\n",
      "\u001b[1;31mKeyError\u001b[0m: 'players'"
     ]
    }
   ],
   "source": [
    "def get_player_id(name):\n",
    "    search_url = sofascore_api + \"players/search\"\n",
    "    search_params = {\"name\": name}\n",
    "    search_response = requests.get(search_url, headers=headers, params=search_params)\n",
    "    search_response_json = search_response.json()\n",
    "    player_id = search_response_json['players'][0]['id']\n",
    "    return player_id\n",
    "\n",
    "player_id = get_player_id(name)\n",
    "player_id"
   ]
  },
  {
   "cell_type": "code",
   "execution_count": null,
   "id": "7140bf80",
   "metadata": {},
   "outputs": [],
   "source": [
    "def get_player_data(player_id):\n",
    "    player_url = sofascore_api + \"players/detail\"\n",
    "    player_params = {\"playerId\": player_id}\n",
    "    player_response = requests.get(player_url, headers=headers, params=player_params)\n",
    "    player_response_json = player_response.json()\n",
    "    return player_response_json\n",
    "\n",
    "get_player_data(player_id)"
   ]
  },
  {
   "cell_type": "code",
   "execution_count": null,
   "id": "98df8929",
   "metadata": {},
   "outputs": [],
   "source": [
    "def get_last_games(player_id):\n",
    "    games_url = sofascore_api + \"players/get-last-matches\"\n",
    "    games_params = {\"playerId\": player_id, 'pageIndex': '0'}\n",
    "    games_response = requests.get(games_url, headers=headers, params=games_params)\n",
    "    games_response_json = games_response.json()\n",
    "    return games_response_json\n",
    "\n",
    "games_response_json = get_last_games(player_id)\n",
    "games_response_json"
   ]
  },
  {
   "cell_type": "code",
   "execution_count": null,
   "id": "57594bc5",
   "metadata": {},
   "outputs": [],
   "source": [
    "def get_last_match_ids(games_response_json):\n",
    "    st = []\n",
    "    for e in games_response_json['events']:\n",
    "        st.append(e['id'])\n",
    "    return st\n",
    "    \n",
    "match_id = get_last_match_ids(games_response_json)[-1]\n",
    "match_id"
   ]
  },
  {
   "cell_type": "code",
   "execution_count": null,
   "id": "3d0d4442",
   "metadata": {},
   "outputs": [],
   "source": [
    "def get_game_stats(match_id):\n",
    "    game_url = sofascore_api + \"matches/get-statistics\"\n",
    "    game_params = {\"matchId\": match_id}\n",
    "    game_response = requests.get(game_url, headers=headers, params=game_params)\n",
    "    game_response_json = game_response.json()\n",
    "    return game_response_json\n",
    "\n",
    "game_response_json = get_game_stats(match_id)\n",
    "game_response_json"
   ]
  },
  {
   "cell_type": "code",
   "execution_count": null,
   "id": "c9d7b962",
   "metadata": {},
   "outputs": [],
   "source": [
    "s = set()\n",
    "for stats in game_response_json['statistics'][0]['groups']: #have to know if team that player is on is home or away\n",
    "    for stat in stats['statisticsItems']:\n",
    "        s.add(stat['name']) \n",
    "s"
   ]
  },
  {
   "cell_type": "code",
   "execution_count": null,
   "id": "840d6c11",
   "metadata": {},
   "outputs": [],
   "source": [
    "def get_player_game_stats(match_id, player_id):\n",
    "    player_game_url = sofascore_api + 'matches/get-player-statistics'\n",
    "    player_game_params = {\"matchId\": match_id, \"playerId\": player_id}\n",
    "    player_game_response = requests.get(player_game_url, headers=headers, params=player_game_params)\n",
    "    player_game_response_json = player_game_response.json()\n",
    "    return player_game_response_json\n",
    "get_player_game_stats(match_id, player_id)"
   ]
  },
  {
   "cell_type": "code",
   "execution_count": null,
   "id": "43518927",
   "metadata": {},
   "outputs": [],
   "source": [
    "def get_player_game_heatmap(match_id, player_id):\n",
    "    player_heatmap_url = sofascore_api + 'matches/get-player-heatmap'\n",
    "    player_heatmap_params = {\"matchId\": match_id, \"playerId\": player_id}\n",
    "    player_heatmap_response = requests.get(player_heatmap_url, headers=headers, params=player_heatmap_params)\n",
    "    player_heatmap_response_json = player_heatmap_response.json()\n",
    "    return player_heatmap_response_json\n",
    "get_player_game_stats(match_id, player_id)"
   ]
  },
  {
   "cell_type": "code",
   "execution_count": null,
   "id": "a4602ec9",
   "metadata": {},
   "outputs": [],
   "source": [
    "def get_last_player_games_features(player_id):\n",
    "    player_games_features = []\n",
    "    \n",
    "    last_games = get_last_games(player_id)\n",
    "    last_games_ids = get_last_match_ids(last_games)\n",
    "    \n",
    "    key_stats = set()\n",
    "    player_game_stats_list = []\n",
    "    \n",
    "    for match_id in last_games_ids[::-1]:\n",
    "        player_game_stats = get_player_game_stats(match_id, player_id)\n",
    "        player_game_stats_list.append(player_game_stats)\n",
    "        if player_game_stats.get('statistics'):\n",
    "            for k in player_game_stats['statistics']:\n",
    "                key_stats.add(k)\n",
    "                \n",
    "    for player_game_stats in player_game_stats_list:\n",
    "        player_game_key_stats = []\n",
    "        if player_game_stats.get('statistics'):\n",
    "            for k in key_stats:\n",
    "                if k in player_game_stats['statistics']:\n",
    "                    feature_value = player_game_stats['statistics'][k]\n",
    "                    if k == 'ratingVersions':\n",
    "                        player_game_key_stats.append(feature_value['original'])\n",
    "                    else:\n",
    "                        player_game_key_stats.append(feature_value) #might be other dict cases\n",
    "                else:\n",
    "                    player_game_key_stats.append(0)\n",
    "                    \n",
    "        if player_game_key_stats:\n",
    "            player_games_features.append(player_game_key_stats)\n",
    "        else:\n",
    "            player_games_features.append([-1 for _ in range(len(key_stats))])\n",
    "        \n",
    "    return player_games_features, key_stats\n",
    "\n",
    "player_games_features, key_stats = get_last_player_games_features(player_id)\n",
    "print(key_stats)"
   ]
  },
  {
   "cell_type": "code",
   "execution_count": null,
   "id": "539bc77e",
   "metadata": {},
   "outputs": [],
   "source": [
    "player_games_features[0]"
   ]
  },
  {
   "cell_type": "code",
   "execution_count": null,
   "id": "d22c2d39",
   "metadata": {},
   "outputs": [],
   "source": [
    "def get_player_features(player_id): \n",
    "    player_features = []\n",
    "    #position, height, primaryUniqueTournament -> name, proposedMarketValue, preferredFoot\n",
    "    return player_features"
   ]
  },
  {
   "cell_type": "code",
   "execution_count": null,
   "id": "f52df9ba",
   "metadata": {},
   "outputs": [],
   "source": [
    "def get_heatmap_features(player_id):\n",
    "    heatmap_features = []\n",
    "    \n",
    "    last_games = get_last_games(player_id)\n",
    "    last_games_ids = get_last_match_ids(last_games)\n",
    "    \n",
    "    min_x = min_y = np.inf\n",
    "    max_x = max_y = 0\n",
    "    \n",
    "    for match_id in last_games_ids[::-1]:\n",
    "        heatmap_stats = get_player_game_heatmap(match_id, player_id)\n",
    "        \n",
    "        heatmap_key_stats = []\n",
    "        if heatmap_stats.get('heatmap'):\n",
    "            x_coords = []\n",
    "            y_coords = []\n",
    "            for coord in heatmap_stats['heatmap']:\n",
    "                x_coords.append(coord['x'])\n",
    "                y_coords.append(coord['y'])\n",
    "                \n",
    "                max_x = max(x, max_x)\n",
    "                max_y = max(y, max_y)\n",
    "                \n",
    "                min_x = min(x, min_x)\n",
    "                min_y = min(y, min_y)\n",
    "                \n",
    "            heatmap_key_stats += [np.mean(x_coords), np.mean(y_coords), np.var(x_coords), np.var(y_coords)]\n",
    "        \n",
    "        if heatmap_key_stats:\n",
    "            heatmap_features.append(heatmap_key_stats)\n",
    "        else:\n",
    "            heatmap_features.append([-1, -1, -1, -1])\n",
    "            \n",
    "    print(min_x, min_y, max_x, max_y)\n",
    "    return heatmap_features\n",
    "\n",
    "heatmap_features = get_heatmap_features(player_id)"
   ]
  },
  {
   "cell_type": "code",
   "execution_count": null,
   "id": "b08762ff",
   "metadata": {},
   "outputs": [],
   "source": [
    "heatmap_features[0]"
   ]
  },
  {
   "cell_type": "code",
   "execution_count": null,
   "id": "18972f2e",
   "metadata": {},
   "outputs": [],
   "source": [
    "def mean_column_vals(arr, j):\n",
    "    vals = []\n",
    "    for row in arr:\n",
    "        if j < len(row):\n",
    "            vals.append(row[j])\n",
    "    return np.mean(vals)"
   ]
  },
  {
   "cell_type": "code",
   "execution_count": null,
   "id": "99cef713",
   "metadata": {},
   "outputs": [],
   "source": [
    "def fill_in_empty_vals(arr):\n",
    "    for j in range(len(arr[0])):\n",
    "        mean_val = mean_column_vals(arr, j)\n",
    "        for i in range(len(arr)):\n",
    "            if arr[i][j] == -1:\n",
    "                arr[i][j] = mean_val\n",
    "    return arr"
   ]
  },
  {
   "cell_type": "code",
   "execution_count": null,
   "id": "e94e0ce1",
   "metadata": {},
   "outputs": [],
   "source": [
    "nonempty_player_games_features = fill_in_empty_vals(player_games_features)\n",
    "nonempty_heatmap_features = fill_in_empty_vals(heatmap_features)"
   ]
  }
 ],
 "metadata": {
  "kernelspec": {
   "display_name": "Python 3 (ipykernel)",
   "language": "python",
   "name": "python3"
  },
  "language_info": {
   "codemirror_mode": {
    "name": "ipython",
    "version": 3
   },
   "file_extension": ".py",
   "mimetype": "text/x-python",
   "name": "python",
   "nbconvert_exporter": "python",
   "pygments_lexer": "ipython3",
   "version": "3.9.12"
  }
 },
 "nbformat": 4,
 "nbformat_minor": 5
}
